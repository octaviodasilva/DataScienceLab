{
 "cells": [
  {
   "cell_type": "markdown",
   "id": "8b0900e6",
   "metadata": {},
   "source": [
    "# Data Science tools and Ecosystem"
   ]
  },
  {
   "cell_type": "markdown",
   "id": "a6566784",
   "metadata": {},
   "source": [
    "In this notebook, Data Science Tools and Ecosystem are summarized."
   ]
  },
  {
   "cell_type": "markdown",
   "id": "b1ff0e4d",
   "metadata": {},
   "source": [
    "Some of the popular languages that Data Scientists use are:\n",
    "   1. Python\n",
    "   2. R\n",
    "   3. Julia\n",
    "   4. SQL    "
   ]
  },
  {
   "cell_type": "markdown",
   "id": "766d8556",
   "metadata": {},
   "source": [
    "Some of the commonly used libraries used by Data Scientists include:\n",
    "   1. Scientific Computing libraries like Pandas, Numpy\n",
    "   2. Visualisation library like Matplotlib, Seaborn\n",
    "   3. Machine Learning and Deep Learning library such as Scikit-learn, Keras, TensoFlow, PyTorch\n",
    "   4. ggplot in R for data visualisaun"
   ]
  },
  {
   "cell_type": "markdown",
   "id": "42b4a242",
   "metadata": {},
   "source": [
    "    | Data Science Tools |\n",
    "    |--------------------|\n",
    "    | Jupyter Notebook   |\n",
    "    | RStudio            |\n",
    "    | Apache Zeppelin    |"
   ]
  },
  {
   "cell_type": "markdown",
   "id": "2f00282e",
   "metadata": {},
   "source": [
    "### Below are a few examples of evaluating arithmetic expressions in Python"
   ]
  },
  {
   "cell_type": "code",
   "execution_count": 5,
   "id": "dfafb0d3",
   "metadata": {},
   "outputs": [
    {
     "data": {
      "text/plain": [
       "17"
      ]
     },
     "execution_count": 5,
     "metadata": {},
     "output_type": "execute_result"
    }
   ],
   "source": [
    "# This a simple arithmetic expression to mutiply then add integers\n",
    "(3*4)+5"
   ]
  },
  {
   "cell_type": "code",
   "execution_count": 6,
   "id": "636c3377",
   "metadata": {},
   "outputs": [
    {
     "data": {
      "text/plain": [
       "3.3333333333333335"
      ]
     },
     "execution_count": 6,
     "metadata": {},
     "output_type": "execute_result"
    }
   ],
   "source": [
    "# This will convert 200 minutes to hours by diving by 60\n",
    "200/60"
   ]
  },
  {
   "cell_type": "markdown",
   "id": "22d71d09",
   "metadata": {},
   "source": [
    "**Objectives:**\n",
    "   - Python\n",
    "   - R\n",
    "   - Julia\n",
    "   - Scala\n",
    "   - Java\n",
    "   - SQL\n",
    "   - C++  "
   ]
  },
  {
   "cell_type": "markdown",
   "id": "94fe33fa",
   "metadata": {},
   "source": [
    "## Author\n",
    "Octavio Joao da Silva"
   ]
  }
 ],
 "metadata": {
  "kernelspec": {
   "display_name": "Python 3 (ipykernel)",
   "language": "python",
   "name": "python3"
  },
  "language_info": {
   "codemirror_mode": {
    "name": "ipython",
    "version": 3
   },
   "file_extension": ".py",
   "mimetype": "text/x-python",
   "name": "python",
   "nbconvert_exporter": "python",
   "pygments_lexer": "ipython3",
   "version": "3.10.9"
  }
 },
 "nbformat": 4,
 "nbformat_minor": 5
}
