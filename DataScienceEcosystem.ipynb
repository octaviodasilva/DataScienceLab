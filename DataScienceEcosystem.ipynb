{
 "cells": [
  {
   "cell_type": "markdown",
   "id": "c66c1f35",
   "metadata": {},
   "source": [
    "# Data Science tools and Ecosystem"
   ]
  },
  {
   "cell_type": "markdown",
   "id": "3f5367df",
   "metadata": {},
   "source": [
    "In this notebook, Data Science Tools and Ecosystem are summarized."
   ]
  },
  {
   "cell_type": "markdown",
   "id": "14f3e51d",
   "metadata": {},
   "source": [
    "Some of the popular languages that Data Scientists use are:\n",
    "    1. Python\n",
    "    2. R\n",
    "    3. Julia\n",
    "    4. SQL    "
   ]
  },
  {
   "cell_type": "markdown",
   "id": "b31e2cd3",
   "metadata": {},
   "source": [
    "Some of the commonly used libraries used by Data Scientists include:\n",
    "    1. Scientific Computing libraries like Pandas, Numpy\n",
    "    2. Visualisation library like Matplotlib, Seaborn\n",
    "    3. Machine Learning and Deep Learning library such as Scikit-learn, Keras, TensoFlow, PyTorch\n",
    "    4. ggplot in R for data visualisaun"
   ]
  },
  {
   "cell_type": "markdown",
   "id": "c1c4f3fd",
   "metadata": {},
   "source": [
    "    | Data Science Tools |\n",
    "    |--------------------|\n",
    "    | Jupyter Notebook   |\n",
    "    | RStudio            |\n",
    "    | Apache Zeppelin    |"
   ]
  },
  {
   "cell_type": "markdown",
   "id": "b1ab8959",
   "metadata": {},
   "source": [
    "### Below are a few examples of evaluating arithmetic expressions in Python\n",
    "This a simple arithmetic expression to mutiply then add integers"
   ]
  },
  {
   "cell_type": "code",
   "execution_count": 3,
   "id": "d100ce9a",
   "metadata": {},
   "outputs": [
    {
     "data": {
      "text/plain": [
       "17"
      ]
     },
     "execution_count": 3,
     "metadata": {},
     "output_type": "execute_result"
    }
   ],
   "source": [
    "(3*4)+5"
   ]
  },
  {
   "cell_type": "markdown",
   "id": "3788a000",
   "metadata": {},
   "source": [
    "This will convert 200 minutes to hours by diving by 60"
   ]
  },
  {
   "cell_type": "code",
   "execution_count": 4,
   "id": "0c3c9277",
   "metadata": {},
   "outputs": [
    {
     "data": {
      "text/plain": [
       "3.3333333333333335"
      ]
     },
     "execution_count": 4,
     "metadata": {},
     "output_type": "execute_result"
    }
   ],
   "source": [
    "200/60"
   ]
  },
  {
   "cell_type": "markdown",
   "id": "c4bbdacb",
   "metadata": {},
   "source": [
    "**Objectives**\n",
    "    - Python\n",
    "    - R\n",
    "    - Julia\n",
    "    - Scala\n",
    "    - Java\n",
    "    - SQL\n",
    "    - C++  "
   ]
  },
  {
   "cell_type": "markdown",
   "id": "c7631e74",
   "metadata": {},
   "source": [
    "## Author\n",
    "Octavio Joao da Silva"
   ]
  }
 ],
 "metadata": {
  "kernelspec": {
   "display_name": "Python 3 (ipykernel)",
   "language": "python",
   "name": "python3"
  },
  "language_info": {
   "codemirror_mode": {
    "name": "ipython",
    "version": 3
   },
   "file_extension": ".py",
   "mimetype": "text/x-python",
   "name": "python",
   "nbconvert_exporter": "python",
   "pygments_lexer": "ipython3",
   "version": "3.10.9"
  }
 },
 "nbformat": 4,
 "nbformat_minor": 5
}
